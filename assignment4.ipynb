{
  "nbformat": 4,
  "nbformat_minor": 0,
  "metadata": {
    "colab": {
      "provenance": [],
      "include_colab_link": true
    },
    "kernelspec": {
      "name": "python3",
      "display_name": "Python 3"
    },
    "language_info": {
      "name": "python"
    }
  },
  "cells": [
    {
      "cell_type": "markdown",
      "metadata": {
        "id": "view-in-github",
        "colab_type": "text"
      },
      "source": [
        "<a href=\"https://colab.research.google.com/github/vaishnavi-kedar/demo1/blob/main/assignment4.ipynb\" target=\"_parent\"><img src=\"https://colab.research.google.com/assets/colab-badge.svg\" alt=\"Open In Colab\"/></a>"
      ]
    },
    {
      "cell_type": "code",
      "source": [],
      "metadata": {
        "id": "-zO6_nBwBp3s"
      },
      "execution_count": null,
      "outputs": []
    },
    {
      "cell_type": "markdown",
      "source": [
        "# Google Colab Lab Assignment -NLP\n",
        "\n",
        "**Course Name:** Deep Learning\n",
        "\n",
        "**Lab Title:** NLP Techniques for Text Classification\n",
        "\n",
        "**Student Name:**Vaishnavi Kedar\n",
        "\n",
        "**Student ID:**202201040045\n",
        "\n",
        "**Date of Submission:** 24-04-2025\n",
        "\n",
        "**Group Members**:\n",
        "Sanchit Panda\n",
        "Vaishnavi Kedar\n",
        "Ishika Bondre\n",
        "Sameer Sabale\n",
        "\n",
        "\n",
        "**Objective**\n",
        "The objective of this assignment is to implement NLP preprocessing techniques and build a text classification model using machine learning techniques.\n"
      ],
      "metadata": {
        "id": "bPVa21a2ssCv"
      }
    },
    {
      "cell_type": "markdown",
      "source": [
        "**Learning Outcomes:**\n",
        "\n",
        "1.Understand and apply NLP preprocessing techniques such as tokenization, stopword removal, stemming, and lemmatization.\n",
        "\n",
        "2.Implement text vectorization techniques such as TF-IDF and CountVectorizer.\n",
        "\n",
        "3.Develop a text classification model using a machine learning algorithm.\n",
        "\n",
        "4.Evaluate the performance of the model using suitable metrics."
      ],
      "metadata": {
        "id": "LTAOXc5luead"
      }
    },
    {
      "cell_type": "markdown",
      "source": [
        "Colab Link : https://colab.research.google.com/drive/1espxZ6fCbspjH8QwBeBDlSN_KESildJE?usp=sharing#scrollTo=dpLNyHqjvRMC                          \n",
        "\n",
        "GitHub Link : https://github.com/vaishnavi-kedar/demo1/blob/c9bc88791a305dd4a9e29659f09f056e0318c185/Lab_Assignmnent_3.ipynb"
      ],
      "metadata": {
        "id": "dpLNyHqjvRMC"
      }
    },
    {
      "cell_type": "code",
      "execution_count": null,
      "metadata": {
        "colab": {
          "base_uri": "https://localhost:8080/"
        },
        "id": "MnAmix-XCLxV",
        "outputId": "4bebaa45-2a2a-4d40-e55d-99f8d68789b0"
      },
      "outputs": [
        {
          "output_type": "stream",
          "name": "stdout",
          "text": [
            "Requirement already satisfied: nltk in /usr/local/lib/python3.11/dist-packages (3.9.1)\n",
            "Requirement already satisfied: click in /usr/local/lib/python3.11/dist-packages (from nltk) (8.1.8)\n",
            "Requirement already satisfied: joblib in /usr/local/lib/python3.11/dist-packages (from nltk) (1.4.2)\n",
            "Requirement already satisfied: regex>=2021.8.3 in /usr/local/lib/python3.11/dist-packages (from nltk) (2024.11.6)\n",
            "Requirement already satisfied: tqdm in /usr/local/lib/python3.11/dist-packages (from nltk) (4.67.1)\n"
          ]
        }
      ],
      "source": [
        "# Install nltk (if not installed)\n",
        "!pip install nltk\n",
        "\n",
        "import nltk\n",
        "import re\n",
        "from nltk.corpus import stopwords\n",
        "from nltk.stem import PorterStemmer, WordNetLemmatizer\n"
      ]
    },
    {
      "cell_type": "code",
      "source": [
        "# Download necessary NLTK datasets\n",
        "nltk.download('punkt')\n",
        "nltk.download('stopwords')\n",
        "nltk.download('wordnet')\n",
        "nltk.download('omw-1.4')   # very important for lemmatization\n"
      ],
      "metadata": {
        "colab": {
          "base_uri": "https://localhost:8080/"
        },
        "id": "EFlWc-c-Cc-E",
        "outputId": "2e7047b0-7061-4220-eb0d-d09a2825a35d"
      },
      "execution_count": null,
      "outputs": [
        {
          "output_type": "stream",
          "name": "stderr",
          "text": [
            "[nltk_data] Downloading package punkt to /root/nltk_data...\n",
            "[nltk_data]   Package punkt is already up-to-date!\n",
            "[nltk_data] Downloading package stopwords to /root/nltk_data...\n",
            "[nltk_data]   Package stopwords is already up-to-date!\n",
            "[nltk_data] Downloading package wordnet to /root/nltk_data...\n",
            "[nltk_data]   Package wordnet is already up-to-date!\n",
            "[nltk_data] Downloading package omw-1.4 to /root/nltk_data...\n",
            "[nltk_data]   Package omw-1.4 is already up-to-date!\n"
          ]
        },
        {
          "output_type": "execute_result",
          "data": {
            "text/plain": [
              "True"
            ]
          },
          "metadata": {},
          "execution_count": 26
        }
      ]
    },
    {
      "cell_type": "code",
      "source": [
        "# Example text\n",
        "text = \"Hello My Name is Sameer Mohan Sabale And i Am from pune junnar i like travling\"\n"
      ],
      "metadata": {
        "id": "cTsNDR-yC5Ri"
      },
      "execution_count": null,
      "outputs": []
    },
    {
      "cell_type": "code",
      "source": [
        "# Tokenization using regex (splitting words manually)\n",
        "tokens = re.findall(r'\\b\\w+\\b', text.lower())\n",
        "\n",
        "print(\"Original Tokens:\", tokens)\n"
      ],
      "metadata": {
        "colab": {
          "base_uri": "https://localhost:8080/"
        },
        "id": "sQTP3o0CC72b",
        "outputId": "ad5c8355-7fcd-4eb9-a963-c7cc3ccd8c2d"
      },
      "execution_count": null,
      "outputs": [
        {
          "output_type": "stream",
          "name": "stdout",
          "text": [
            "Original Tokens: ['hello', 'my', 'name', 'is', 'sameer', 'mohan', 'sabale', 'and', 'i', 'am', 'from', 'pune', 'junnar', 'i', 'like', 'travling']\n"
          ]
        }
      ]
    },
    {
      "cell_type": "code",
      "source": [
        "# Stopword removal\n",
        "stop_words = set(stopwords.words('english'))\n",
        "filtered_tokens = [w for w in tokens if w not in stop_words]\n",
        "\n",
        "print(\"Filtered Tokens:\", filtered_tokens)\n"
      ],
      "metadata": {
        "colab": {
          "base_uri": "https://localhost:8080/"
        },
        "id": "iRGeX7oJDSRL",
        "outputId": "752c7777-a775-4180-94e2-636a7736884b"
      },
      "execution_count": null,
      "outputs": [
        {
          "output_type": "stream",
          "name": "stdout",
          "text": [
            "Filtered Tokens: ['hello', 'name', 'sameer', 'mohan', 'sabale', 'pune', 'junnar', 'like', 'travling']\n"
          ]
        }
      ]
    },
    {
      "cell_type": "code",
      "source": [
        "# Stemming\n",
        "stemmer = PorterStemmer()\n",
        "stemmed_tokens = [stemmer.stem(word) for word in filtered_tokens]\n",
        "\n",
        "print(\"Stemmed Tokens:\", stemmed_tokens)\n"
      ],
      "metadata": {
        "colab": {
          "base_uri": "https://localhost:8080/"
        },
        "id": "bsjWBockDU6P",
        "outputId": "1c394409-01db-466c-98c7-37e189b790c7"
      },
      "execution_count": null,
      "outputs": [
        {
          "output_type": "stream",
          "name": "stdout",
          "text": [
            "Stemmed Tokens: ['hello', 'name', 'sameer', 'mohan', 'sabal', 'pune', 'junnar', 'like', 'travl']\n"
          ]
        }
      ]
    },
    {
      "cell_type": "code",
      "source": [
        "# Lemmatization\n",
        "lemmatizer = WordNetLemmatizer()\n",
        "lemmatized_tokens = [lemmatizer.lemmatize(word) for word in filtered_tokens]\n",
        "\n",
        "print(\"Lemmatized Tokens:\", lemmatized_tokens)\n"
      ],
      "metadata": {
        "colab": {
          "base_uri": "https://localhost:8080/"
        },
        "id": "szIMPlfGDXqd",
        "outputId": "b644b281-0a0f-4f66-f8bf-ecb1b27ebbff"
      },
      "execution_count": null,
      "outputs": [
        {
          "output_type": "stream",
          "name": "stdout",
          "text": [
            "Lemmatized Tokens: ['hello', 'name', 'sameer', 'mohan', 'sabale', 'pune', 'junnar', 'like', 'travling']\n"
          ]
        }
      ]
    },
    {
      "cell_type": "code",
      "source": [
        "# Prediction and Evaluation\n",
        "y_pred = model.predict(X_test)\n",
        "\n",
        "print(\"Model Evaluation Results:\")\n",
        "print(\"--------------------------\")\n",
        "print(\"Accuracy:\", accuracy_score(y_test, y_pred))\n",
        "print(\"\\nClassification Report:\\n\", classification_report(y_test, y_pred))\n",
        "print(\"\\nConfusion Matrix:\\n\", confusion_matrix(y_test, y_pred))\n"
      ],
      "metadata": {
        "colab": {
          "base_uri": "https://localhost:8080/"
        },
        "id": "VHR7E-PJFWAq",
        "outputId": "7750e106-89d4-4f5b-d8ba-08bf4fcfd8d6"
      },
      "execution_count": null,
      "outputs": [
        {
          "output_type": "stream",
          "name": "stdout",
          "text": [
            "Model Evaluation Results:\n",
            "--------------------------\n",
            "Accuracy: 0.5\n",
            "\n",
            "Classification Report:\n",
            "               precision    recall  f1-score   support\n",
            "\n",
            "           0       0.50      1.00      0.67         1\n",
            "           1       0.00      0.00      0.00         1\n",
            "\n",
            "    accuracy                           0.50         2\n",
            "   macro avg       0.25      0.50      0.33         2\n",
            "weighted avg       0.25      0.50      0.33         2\n",
            "\n",
            "\n",
            "Confusion Matrix:\n",
            " [[1 0]\n",
            " [1 0]]\n"
          ]
        },
        {
          "output_type": "stream",
          "name": "stderr",
          "text": [
            "/usr/local/lib/python3.11/dist-packages/sklearn/metrics/_classification.py:1565: UndefinedMetricWarning: Precision is ill-defined and being set to 0.0 in labels with no predicted samples. Use `zero_division` parameter to control this behavior.\n",
            "  _warn_prf(average, modifier, f\"{metric.capitalize()} is\", len(result))\n",
            "/usr/local/lib/python3.11/dist-packages/sklearn/metrics/_classification.py:1565: UndefinedMetricWarning: Precision is ill-defined and being set to 0.0 in labels with no predicted samples. Use `zero_division` parameter to control this behavior.\n",
            "  _warn_prf(average, modifier, f\"{metric.capitalize()} is\", len(result))\n",
            "/usr/local/lib/python3.11/dist-packages/sklearn/metrics/_classification.py:1565: UndefinedMetricWarning: Precision is ill-defined and being set to 0.0 in labels with no predicted samples. Use `zero_division` parameter to control this behavior.\n",
            "  _warn_prf(average, modifier, f\"{metric.capitalize()} is\", len(result))\n"
          ]
        }
      ]
    }
  ]
}